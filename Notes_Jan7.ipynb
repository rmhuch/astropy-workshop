{
 "cells": [
  {
   "cell_type": "markdown",
   "id": "8b880422-2860-4599-989d-903e335ad798",
   "metadata": {},
   "source": [
    "Introduction\n",
    "-----------\n",
    "\n",
    "* Five main 'key' subpackages of astropy: units, coordinates, time, table, io.fits \n",
    "* code requires attribution: \"adapted from astropy..\"\n",
    "\n",
    "_Types of packages_ \n",
    "* Affililiated vs Coordinated packages: Affiliated packages are NOT maintained by the astropy project\n",
    "\n",
    "Using the Jupyter Notebook\n",
    "-----\n",
    "* change the cell type up in the tool bar\n",
    "    * types - code, markdown, or raw"
   ]
  },
  {
   "cell_type": "markdown",
   "id": "346538ac-3f4e-404a-a9b1-ea8f0cd7b918",
   "metadata": {},
   "source": [
    "Astropy Units\n",
    "----\n",
    "_store, convert, display units_\n",
    "\n",
    "* use `import astropy.units as u`\n",
    "* attach a unit to a quantity by multiplying by `u.unit_name` (this is called a `quantity` object)\n",
    "* `astropy.constants` -> G,c where they come from is cited in the code\n",
    "* Things like solar mass are encoded as units\n",
    "* convert units using `value.to(u.new_unit)`\n",
    "* arithmetic propagates to UNIT\n",
    "* it will throw an error if you put in incompatible units\n",
    "    * use an `equivalency` to convert between units that are not inherenitly convertible but _could be_\n",
    "* if you try to convert a unit and not a `quantity` the output will have no unit. (becuase it doesn't)"
   ]
  },
  {
   "cell_type": "markdown",
   "id": "563e72af-ada0-4500-a036-04254d5e6e7b",
   "metadata": {},
   "source": [
    "Object-oriented programming\n",
    "---\n",
    "_learning the vocabulary of OOP_\n",
    "* this tutorial teaches us how to create an object that represents a light curve. Although this is \"clunky\" and we should use the package `lightkurve`\n"
   ]
  },
  {
   "cell_type": "markdown",
   "id": "004fb91e-0677-49da-8c26-ab7f3bd7b62f",
   "metadata": {},
   "source": [
    "Time and Coordinates\n",
    "---\n",
    "* use python built-in `datetime` to do wall clock time conversions.\n",
    "* NOTE: lowercase `time` is the package uppercase `Time` is the object\n",
    "    * This is a STANDARD in `astropy`\n",
    "* python datetime will  convert an astropy time object back to a calendar time\n",
    "  ` t = Time(58852.76, format='mjd', scale='tai')\n",
    "    t.datetime\n",
    "    print(t) `\n",
    "* core objects in BOTH `astropy.time` and `astropy.coordinates` accept array-valued data!!!\n",
    "* CONVERT LOCAL TIME TO UTC then put into `astropy.time` object\n",
    "* do we care UTC vs UT1"
   ]
  },
  {
   "cell_type": "markdown",
   "id": "e84a7230-0cd0-4192-a4ea-91558075b6e5",
   "metadata": {},
   "source": [
    "`specutils`\n",
    "---\n",
    "* jupyter lab runs _just_ like notebook but has a GUI more like matlab\n",
    "* note: this is a package that was developed _independently_ of astropy, but dependent on astropy\n",
    "    * this means that it has to be imported on it's own\n",
    "* `atropy.nddata` can hold uncertainty data and there are _many_ different forms, you can mak uncertainity objects and associate them with data.\n",
    "    * these objects are for _uncertainty_ in _data_\n"
   ]
  },
  {
   "cell_type": "markdown",
   "id": "24f9dd0b-8456-4b90-95aa-afd47c8ea61b",
   "metadata": {},
   "source": [
    "`photutils`\n",
    "----\n",
    "* `photutils.aperture` can use circular, ellipitical, or rectangular apertures and their annuli\n",
    "* aperture/pixel overlap methods: exact (cuts pixels), center (uses only pixels whose center is in the aperture), subpixel (identify the number of subpixels to break each pixel into then those use the center method)\n",
    "* `photutils.profiles` - radial profiles, etc\n",
    "* IRAF was dissovled into photutils\n",
    "* [docs here](https://photutils.readthedocs.io)\n",
    "* you can do multiaperture photometry using WCS coordinates - `SkyCircluarAperture` must use arcseconds for the radius of this object\n",
    "* `ApertureStats` - assess the statistics of the apertures\n",
    "* a circle in pixel space may not be a circle in the sky"
   ]
  },
  {
   "cell_type": "markdown",
   "id": "6e351f6b-d332-40e2-9b6c-f5eaad25c1c0",
   "metadata": {},
   "source": [
    "Community\n",
    "---\n",
    "get in contact: https://www.astropy.org/help\n",
    "-> [help forum - discourse server](https://community.openastronomy.org/c/astropy/8)\n",
    "\n",
    "* self-directed [tutorials](learn.astropy.org)\n",
    "    * homework-level / entry tutorials\n",
    "\n",
    "* Conferences:\n",
    "    * Open Astronomy\n",
    "    * Python in Astronomy\n",
    "    * dotAstronomy - coding workshops & outreach\n",
    "    * Astro Hack Week"
   ]
  },
  {
   "cell_type": "markdown",
   "id": "034d61e8-00bd-4c85-8b8d-1d661dc152d6",
   "metadata": {},
   "source": [
    "Other things\n",
    "---\n",
    "* `astroplan` package - for planning ground based observations\n",
    "*  docs [here](https://astroplan.readthedocs.io/en/stable/index.html)\n",
    "*  think about using to track meridian PRIOR to observations"
   ]
  },
  {
   "cell_type": "markdown",
   "id": "e6acaedd-296f-477c-ab31-c5da98172fd7",
   "metadata": {},
   "source": [
    "Github\n",
    "---\n",
    "When trying to create your _own_ version of an established repositiory... \n",
    "- fork the repo\n",
    "- make sure the repo is up to date\n",
    "- pull down the repo\n",
    "- create a `backup` branch\n",
    "- change the name of the branch of the forked repo from `main` to something else\n",
    "- ensure that is the main branch\n",
    "- THEN can start editing code, should be able to push/commit/pull no problem"
   ]
  },
  {
   "cell_type": "code",
   "execution_count": null,
   "id": "8813dde3-245b-435b-8456-f7b1e79ef8f6",
   "metadata": {},
   "outputs": [],
   "source": []
  }
 ],
 "metadata": {
  "kernelspec": {
   "display_name": "Python 3 (ipykernel)",
   "language": "python",
   "name": "python3"
  },
  "language_info": {
   "codemirror_mode": {
    "name": "ipython",
    "version": 3
   },
   "file_extension": ".py",
   "mimetype": "text/x-python",
   "name": "python",
   "nbconvert_exporter": "python",
   "pygments_lexer": "ipython3",
   "version": "3.11.7"
  }
 },
 "nbformat": 4,
 "nbformat_minor": 5
}
