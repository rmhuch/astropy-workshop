{
 "cells": [
  {
   "cell_type": "markdown",
   "metadata": {},
   "source": [
    "# ![Specutils: An Astropy Package for Spectroscopy](data/specutils_logo.png)\n",
    "\n",
    "\n",
    "This notebook provides an overview of the Specutils Astropy coordinated package.  While this notebook is intended as an interactive introduction to specutils at the time of its writing, the canonical source of information for the package is the latest version's documentation: \n",
    "\n",
    "https://specutils.readthedocs.io"
   ]
  },
  {
   "cell_type": "markdown",
   "metadata": {},
   "source": [
    "# Installation\n",
    "\n",
    " \n",
    "\n",
    "<div class=\"alert alert-block alert-warning\">\n",
    "If you followed the workshop instructions, specutils should be already installed. But depending on when you installed it, you might need to follow <a href=\"../../edit/00-Install_and_Setup/UPDATING.md\">the UPDATING.md instructions</a> at the base of this repo.\n",
    "</div>\n",
    "\n",
    "\n",
    "If it is not already installed, installing `specutils` should be as straightforward as either:\n",
    "```\n",
    "$ conda install -c conda-forge specutils\n",
    "```\n",
    "\n",
    "or\n",
    "\n",
    "```\n",
    "$ pip install specutils\n",
    "```\n",
    "\n",
    "although for futher information see [the installation section of the docs](https://specutils.readthedocs.io/en/latest/installation.html)."
   ]
  },
  {
   "cell_type": "markdown",
   "metadata": {},
   "source": [
    "Once these are installed, fundamental imports necessary for this notebook are possible:"
   ]
  },
  {
   "cell_type": "code",
   "execution_count": 1,
   "metadata": {},
   "outputs": [
    {
     "data": {
      "text/plain": [
       "'1.12.0'"
      ]
     },
     "execution_count": 1,
     "metadata": {},
     "output_type": "execute_result"
    }
   ],
   "source": [
    "import numpy as np\n",
    "\n",
    "import astropy.units as u\n",
    "\n",
    "import specutils\n",
    "from specutils import Spectrum1D\n",
    "specutils.__version__"
   ]
  },
  {
   "cell_type": "code",
   "execution_count": 2,
   "metadata": {},
   "outputs": [],
   "source": [
    "# for plotting:\n",
    "%matplotlib inline\n",
    "import matplotlib.pyplot as plt\n",
    "\n",
    "\n",
    "# for showing quantity units on axes automatically:\n",
    "from astropy.visualization import quantity_support\n",
    "quantity_support();"
   ]
  },
  {
   "cell_type": "markdown",
   "metadata": {},
   "source": [
    "# Background/Spectroscopic ecosystem\n",
    "\n",
    "The large-scale plan for spectroscopy support in the Astropy project is outlined in  the [Astropy Proposal For Enhancement 13](https://github.com/astropy/astropy-APEs/blob/main/APE13.rst).  In summary, this APE13 lays out three broad packages:\n",
    "\n",
    "* `specutils` - a Python package containing the basic data structures for representing spectroscopic data sets, as well as a suite of fundamental spectroscopic analysis tools to work with these data structures.\n",
    "* `specreduce` - a general Python package to reduce raw astronomical spectral images to 1d spectra (represented as `specutils` objects).\n",
    "* `specviz` - a Python package (or possibly suite of packages) for visualization of astronomical spectra.\n",
    "\n",
    "\n",
    "While all are still in development, the first of these is furthest along, and is the subject of this notebook, as it contains the core data structures and concepts required for the others."
   ]
  },
  {
   "cell_type": "markdown",
   "metadata": {},
   "source": [
    "# Fundamentals of specutils"
   ]
  },
  {
   "cell_type": "markdown",
   "metadata": {},
   "source": [
    "## Objects for representing spectra\n",
    "\n",
    "The most fundamental purpose of `specutils` is to contain the shared Python-level data structures for storing astronomical spectra.  It is important to recognize that this is not the same as the *on-disk* representation.  As desecribed later specutils provides loaders and writers for various on-disk representations, with the intent that they all load to a common set of in-memory/Python interfaces.  Those intefaces (implemented as Python classes) are described in detail in the [relevant section of the documentation](https://specutils.readthedocs.io/en/latest/types_of_spectra.html), which contains this diagram:\n",
    "\n",
    "![Specutils Classes](data/specutils_classes_diagrams.png)\n",
    "\n",
    "The core principal is that all of these representations contain a `spectral_axis` attribute as well as a `flux` attribute (as well as optional matching `uncertainty`).  The former is often wavelength for OIR spectra, but might be frequency or energy for e.g. Radio or X-ray spectra.  Regardless of which spectral axis is used, the class attempts to interpret it appropriately, using the features of `astropy.Quantity` to distinguish different types of axes.  Similarly, `flux` may or may not be a traditional astronomical `flux` unit (e.g. Jy or  erg sec$^{-1}$ cm$^{-2}$ angstrom$^{-1}$), but is treated as the portion of the spectrum that acts in that manner.  The various classes are then distinguished by whether these attributes are one-dimensional or not, and how to map the `spectral_axis` dimensionality onto the `flux`.  The simplest case (and the one primarily considered here) is the scalar `Spectrum1D` case, which is a single spectrum with a matched-size `flux` and `spectral_axis`."
   ]
  },
  {
   "cell_type": "markdown",
   "metadata": {},
   "source": [
    "## Basics of creating Spectrum1D Objects"
   ]
  },
  {
   "cell_type": "markdown",
   "metadata": {},
   "source": [
    "While often a spectrum will be loaded from a file (see below), if the format is not compatible, or particular customization is required, spectra can be greated directly from arrays and astropy quantities.  E.g.:"
   ]
  },
  {
   "cell_type": "code",
   "execution_count": 3,
   "metadata": {},
   "outputs": [
    {
     "data": {
      "text/plain": [
       "<Spectrum1D(flux=<Quantity [1.93989578, 1.95644034, 2.09648537, 1.85314047, 1.97725717,\n",
       "           2.03192326, 2.00885849, 2.13028939, 2.10579981, 1.86519404,\n",
       "           1.88691621, 2.24508093, 2.19051684, 2.01190076, 2.16342185,\n",
       "           1.86226092, 2.09259435, 2.21261779, 1.74096479, 1.92568152,\n",
       "           2.13579838, 1.65711725, 2.06473079, 2.11220457, 2.00336407,\n",
       "           1.89499978, 1.99593634, 1.61302057, 1.85736277, 1.96200753,\n",
       "           1.59394567, 1.89531712, 1.81513976, 1.99730242, 2.18783219,\n",
       "           1.78506082, 1.94418959, 1.99813381, 2.54935026, 1.82754101,\n",
       "           2.13679968, 2.10139019, 1.79701358, 2.18041567, 1.80572357,\n",
       "           1.97400777, 2.05696069, 1.89128899, 2.05559634, 2.06209299,\n",
       "           1.96145146, 2.18986095, 2.12663206, 2.14212665, 1.69798305,\n",
       "           2.01164991, 1.9533312 , 1.95734084, 2.50112403, 2.06123303,\n",
       "           1.8634607 , 2.37019551, 1.95234982, 1.92535257, 1.75253959,\n",
       "           2.06111875, 2.10379141, 1.94592544, 1.7311819 , 1.68573128,\n",
       "           1.91893199, 1.89585165, 2.22128698, 2.37832605, 1.84762352,\n",
       "           2.05164519, 1.98686665, 2.15843328, 1.91437977, 1.98897332,\n",
       "           2.27668517, 1.63447754, 1.7984032 , 2.50479423, 1.88547241,\n",
       "           2.05821622, 1.92223324, 1.92907718, 1.87273344, 1.92539689,\n",
       "           1.94708221, 2.03262926, 2.00014841, 2.0738678 , 2.00993597,\n",
       "           1.97766728, 1.89391916, 1.85495324, 2.25582991, 2.2188395 ] erg / (Angstrom s cm2)>, spectral_axis=<SpectralAxis [3000.        , 3050.50505051, 3101.01010101, 3151.51515152,\n",
       "   3202.02020202, 3252.52525253, 3303.03030303, 3353.53535354,\n",
       "   3404.04040404, 3454.54545455, 3505.05050505, 3555.55555556,\n",
       "   3606.06060606, 3656.56565657, 3707.07070707, 3757.57575758,\n",
       "   3808.08080808, 3858.58585859, 3909.09090909, 3959.5959596 ,\n",
       "   4010.1010101 , 4060.60606061, 4111.11111111, 4161.61616162,\n",
       "   4212.12121212, 4262.62626263, 4313.13131313, 4363.63636364,\n",
       "   4414.14141414, 4464.64646465, 4515.15151515, 4565.65656566,\n",
       "   4616.16161616, 4666.66666667, 4717.17171717, 4767.67676768,\n",
       "   4818.18181818, 4868.68686869, 4919.19191919, 4969.6969697 ,\n",
       "   5020.2020202 , 5070.70707071, 5121.21212121, 5171.71717172,\n",
       "   5222.22222222, 5272.72727273, 5323.23232323, 5373.73737374,\n",
       "   5424.24242424, 5474.74747475, 5525.25252525, 5575.75757576,\n",
       "   5626.26262626, 5676.76767677, 5727.27272727, 5777.77777778,\n",
       "   5828.28282828, 5878.78787879, 5929.29292929, 5979.7979798 ,\n",
       "   6030.3030303 , 6080.80808081, 6131.31313131, 6181.81818182,\n",
       "   6232.32323232, 6282.82828283, 6333.33333333, 6383.83838384,\n",
       "   6434.34343434, 6484.84848485, 6535.35353535, 6585.85858586,\n",
       "   6636.36363636, 6686.86868687, 6737.37373737, 6787.87878788,\n",
       "   6838.38383838, 6888.88888889, 6939.39393939, 6989.8989899 ,\n",
       "   7040.4040404 , 7090.90909091, 7141.41414141, 7191.91919192,\n",
       "   7242.42424242, 7292.92929293, 7343.43434343, 7393.93939394,\n",
       "   7444.44444444, 7494.94949495, 7545.45454545, 7595.95959596,\n",
       "   7646.46464646, 7696.96969697, 7747.47474747, 7797.97979798,\n",
       "   7848.48484848, 7898.98989899, 7949.49494949, 8000.        ] Angstrom>)>"
      ]
     },
     "execution_count": 3,
     "metadata": {},
     "output_type": "execute_result"
    },
    {
     "data": {
      "image/png": "[encoded data removed]",
      "text/plain": [
       "<Figure size 640x480 with 1 Axes>"
      ]
     },
     "metadata": {},
     "output_type": "display_data"
    }
   ],
   "source": [
    "flux = (np.random.randn(100)*0.2 + 2) * u.erg / u.s / (u.cm**2) / u.AA \n",
    "wavelength = np.linspace(3000, 8000, 100)*u.AA\n",
    "spec1d = Spectrum1D(spectral_axis=wavelength, flux=flux)\n",
    "\n",
    "plt.step(spec1d.spectral_axis, spec1d.flux)\n",
    "# step = histogram style, more representative of spectrum then just connecting the dots with plot\n",
    "\n",
    "spec1d"
   ]
  },
  {
   "cell_type": "markdown",
   "metadata": {},
   "source": [
    "These can be straightforwardly transformed to other spectral units if desired:"
   ]
  },
  {
   "cell_type": "code",
   "execution_count": 4,
   "metadata": {},
   "outputs": [
    {
     "data": {
      "text/plain": [
       "[<matplotlib.lines.Line2D at 0x13e026150>]"
      ]
     },
     "execution_count": 4,
     "metadata": {},
     "output_type": "execute_result"
    },
    {
     "data": {
      "image/png": "[encoded data removed]",
      "text/plain": [
       "<Figure size 640x480 with 1 Axes>"
      ]
     },
     "metadata": {},
     "output_type": "display_data"
    }
   ],
   "source": [
    "jyspec1d = spec1d.new_flux_unit(u.Jy)\n",
    "plt.plot(jyspec1d.frequency, jyspec1d.flux)"
   ]
  },
  {
   "cell_type": "markdown",
   "metadata": {},
   "source": [
    "## Working with Spectral Axes \n",
    "\n",
    "We created `Spectrum1D` just as Quantity arrays, so they can be treated just as `Quantity` objects when convenient with unit conversions and the like:"
   ]
  },
  {
   "cell_type": "code",
   "execution_count": 5,
   "metadata": {},
   "outputs": [
    {
     "data": {
      "text/latex": [
       "$[3000,~3050.5051,~3101.0101,~3151.5152,~3202.0202,~3252.5253,~3303.0303,~3353.5354,~3404.0404,~3454.5455,~3505.0505,~3555.5556,~3606.0606,~3656.5657,~3707.0707,~3757.5758,~3808.0808,~3858.5859,~3909.0909,~3959.596,~4010.101,~4060.6061,~4111.1111,~4161.6162,~4212.1212,~4262.6263,~4313.1313,~4363.6364,~4414.1414,~4464.6465,~4515.1515,~4565.6566,~4616.1616,~4666.6667,~4717.1717,~4767.6768,~4818.1818,~4868.6869,~4919.1919,~4969.697,~5020.202,~5070.7071,~5121.2121,~5171.7172,~5222.2222,~5272.7273,~5323.2323,~5373.7374,~5424.2424,~5474.7475,~5525.2525,~5575.7576,~5626.2626,~5676.7677,~5727.2727,~5777.7778,~5828.2828,~5878.7879,~5929.2929,~5979.798,~6030.303,~6080.8081,~6131.3131,~6181.8182,~6232.3232,~6282.8283,~6333.3333,~6383.8384,~6434.3434,~6484.8485,~6535.3535,~6585.8586,~6636.3636,~6686.8687,~6737.3737,~6787.8788,~6838.3838,~6888.8889,~6939.3939,~6989.899,~7040.404,~7090.9091,~7141.4141,~7191.9192,~7242.4242,~7292.9293,~7343.4343,~7393.9394,~7444.4444,~7494.9495,~7545.4545,~7595.9596,~7646.4646,~7696.9697,~7747.4747,~7797.9798,~7848.4848,~7898.9899,~7949.4949,~8000] \\; \\mathrm{\\mathring{A}}$"
      ],
      "text/plain": [
       "<SpectralAxis [3000.        , 3050.50505051, 3101.01010101, 3151.51515152,\n",
       "   3202.02020202, 3252.52525253, 3303.03030303, 3353.53535354,\n",
       "   3404.04040404, 3454.54545455, 3505.05050505, 3555.55555556,\n",
       "   3606.06060606, 3656.56565657, 3707.07070707, 3757.57575758,\n",
       "   3808.08080808, 3858.58585859, 3909.09090909, 3959.5959596 ,\n",
       "   4010.1010101 , 4060.60606061, 4111.11111111, 4161.61616162,\n",
       "   4212.12121212, 4262.62626263, 4313.13131313, 4363.63636364,\n",
       "   4414.14141414, 4464.64646465, 4515.15151515, 4565.65656566,\n",
       "   4616.16161616, 4666.66666667, 4717.17171717, 4767.67676768,\n",
       "   4818.18181818, 4868.68686869, 4919.19191919, 4969.6969697 ,\n",
       "   5020.2020202 , 5070.70707071, 5121.21212121, 5171.71717172,\n",
       "   5222.22222222, 5272.72727273, 5323.23232323, 5373.73737374,\n",
       "   5424.24242424, 5474.74747475, 5525.25252525, 5575.75757576,\n",
       "   5626.26262626, 5676.76767677, 5727.27272727, 5777.77777778,\n",
       "   5828.28282828, 5878.78787879, 5929.29292929, 5979.7979798 ,\n",
       "   6030.3030303 , 6080.80808081, 6131.31313131, 6181.81818182,\n",
       "   6232.32323232, 6282.82828283, 6333.33333333, 6383.83838384,\n",
       "   6434.34343434, 6484.84848485, 6535.35353535, 6585.85858586,\n",
       "   6636.36363636, 6686.86868687, 6737.37373737, 6787.87878788,\n",
       "   6838.38383838, 6888.88888889, 6939.39393939, 6989.8989899 ,\n",
       "   7040.4040404 , 7090.90909091, 7141.41414141, 7191.91919192,\n",
       "   7242.42424242, 7292.92929293, 7343.43434343, 7393.93939394,\n",
       "   7444.44444444, 7494.94949495, 7545.45454545, 7595.95959596,\n",
       "   7646.46464646, 7696.96969697, 7747.47474747, 7797.97979798,\n",
       "   7848.48484848, 7898.98989899, 7949.49494949, 8000.        ] Angstrom>"
      ]
     },
     "execution_count": 5,
     "metadata": {},
     "output_type": "execute_result"
    }
   ],
   "source": [
    "spec1d.spectral_axis"
   ]
  },
  {
   "cell_type": "code",
   "execution_count": 6,
   "metadata": {},
   "outputs": [
    {
     "data": {
      "text/latex": [
       "$[300,~305.05051,~310.10101,~315.15152,~320.20202,~325.25253,~330.30303,~335.35354,~340.40404,~345.45455,~350.50505,~355.55556,~360.60606,~365.65657,~370.70707,~375.75758,~380.80808,~385.85859,~390.90909,~395.9596,~401.0101,~406.06061,~411.11111,~416.16162,~421.21212,~426.26263,~431.31313,~436.36364,~441.41414,~446.46465,~451.51515,~456.56566,~461.61616,~466.66667,~471.71717,~476.76768,~481.81818,~486.86869,~491.91919,~496.9697,~502.0202,~507.07071,~512.12121,~517.17172,~522.22222,~527.27273,~532.32323,~537.37374,~542.42424,~547.47475,~552.52525,~557.57576,~562.62626,~567.67677,~572.72727,~577.77778,~582.82828,~587.87879,~592.92929,~597.9798,~603.0303,~608.08081,~613.13131,~618.18182,~623.23232,~628.28283,~633.33333,~638.38384,~643.43434,~648.48485,~653.53535,~658.58586,~663.63636,~668.68687,~673.73737,~678.78788,~683.83838,~688.88889,~693.93939,~698.9899,~704.0404,~709.09091,~714.14141,~719.19192,~724.24242,~729.29293,~734.34343,~739.39394,~744.44444,~749.49495,~754.54545,~759.59596,~764.64646,~769.69697,~774.74747,~779.79798,~784.84848,~789.89899,~794.94949,~800] \\; \\mathrm{nm}$"
      ],
      "text/plain": [
       "<SpectralAxis [300.        , 305.05050505, 310.1010101 , 315.15151515, 320.2020202 ,\n",
       "   325.25252525, 330.3030303 , 335.35353535, 340.4040404 , 345.45454545,\n",
       "   350.50505051, 355.55555556, 360.60606061, 365.65656566, 370.70707071,\n",
       "   375.75757576, 380.80808081, 385.85858586, 390.90909091, 395.95959596,\n",
       "   401.01010101, 406.06060606, 411.11111111, 416.16161616, 421.21212121,\n",
       "   426.26262626, 431.31313131, 436.36363636, 441.41414141, 446.46464646,\n",
       "   451.51515152, 456.56565657, 461.61616162, 466.66666667, 471.71717172,\n",
       "   476.76767677, 481.81818182, 486.86868687, 491.91919192, 496.96969697,\n",
       "   502.02020202, 507.07070707, 512.12121212, 517.17171717, 522.22222222,\n",
       "   527.27272727, 532.32323232, 537.37373737, 542.42424242, 547.47474747,\n",
       "   552.52525253, 557.57575758, 562.62626263, 567.67676768, 572.72727273,\n",
       "   577.77777778, 582.82828283, 587.87878788, 592.92929293, 597.97979798,\n",
       "   603.03030303, 608.08080808, 613.13131313, 618.18181818, 623.23232323,\n",
       "   628.28282828, 633.33333333, 638.38383838, 643.43434343, 648.48484848,\n",
       "   653.53535354, 658.58585859, 663.63636364, 668.68686869, 673.73737374,\n",
       "   678.78787879, 683.83838384, 688.88888889, 693.93939394, 698.98989899,\n",
       "   704.04040404, 709.09090909, 714.14141414, 719.19191919, 724.24242424,\n",
       "   729.29292929, 734.34343434, 739.39393939, 744.44444444, 749.49494949,\n",
       "   754.54545455, 759.5959596 , 764.64646465, 769.6969697 , 774.74747475,\n",
       "   779.7979798 , 784.84848485, 789.8989899 , 794.94949495, 800.        ] nm>"
      ]
     },
     "execution_count": 6,
     "metadata": {},
     "output_type": "execute_result"
    }
   ],
   "source": [
    "spec1d.spectral_axis.to(u.nm)"
   ]
  },
  {
   "cell_type": "code",
   "execution_count": 7,
   "metadata": {},
   "outputs": [
    {
     "data": {
      "text/latex": [
       "$[999.30819,~982.76336,~966.75744,~951.26453,~936.26036,~921.72215,~907.62854,~893.95944,~880.69594,~867.82027,~855.31566,~843.16629,~831.35724,~819.8744,~808.70445,~797.83477,~787.2534,~776.94904,~766.91094,~757.12891,~747.59328,~738.29486,~729.2249,~720.37508,~711.73749,~703.30458,~695.06916,~687.02438,~679.16369,~671.48084,~663.96987,~656.62507,~649.44099,~642.41241,~635.53433,~628.80198,~622.21076,~615.75629,~609.43436,~603.24092,~597.1721,~591.22417,~585.39356,~579.67682,~574.07066,~568.5719,~563.17748,~557.88446,~552.69001,~547.59139,~542.58598,~537.67126,~532.84476,~528.10415,~523.44715,~518.87156,~514.37527,~509.95624,~505.61249,~501.34212,~497.14327,~493.01418,~488.9531,~484.95839,~481.02842,~477.16163,~473.35651,~469.6116,~465.92548,~462.29678,~458.72416,~455.20634,~451.74206,~448.33011,~444.96932,~441.65853,~438.39665,~435.1826,~432.01533,~428.89383,~425.81712,~422.78424,~419.79425,~416.84625,~413.93938,~411.07276,~408.24558,~405.45701,~402.70629,~399.99263,~397.31531,~394.67358,~392.06675,~389.49414,~386.95506,~384.44888,~381.97495,~379.53265,~377.12139,~374.74057] \\; \\mathrm{THz}$"
      ],
      "text/plain": [
       "<SpectralAxis [999.30819333, 982.7633557 , 966.75743785, 951.26453019, 936.26035779,\n",
       "   921.72215348, 907.62854257, 893.95943801, 880.69594487, 867.82027316,\n",
       "   855.31565827, 843.16628812, 831.35723647, 819.87440171, 808.70445074,\n",
       "   797.83476726, 787.2534043 , 776.94904037, 766.91093907, 757.12891179,\n",
       "   747.59328317, 738.29485925, 729.22489784, 720.37508112, 711.73749022,\n",
       "   703.30458156, 695.06916492, 687.02438292, 679.16369204, 671.48084484,\n",
       "   663.96987342, 656.62507394, 649.44099217, 642.41241   , 635.53433281,\n",
       "   628.80197758, 622.21076189, 615.7562934 , 609.43436021, 603.24092159,\n",
       "   597.17209944, 591.22417016, 585.39355704, 579.67682309, 574.07066426,\n",
       "   568.5719031 , 563.17748277, 557.88446132, 552.69000637, 547.59139007,\n",
       "   542.58598431, 537.6712562 , 532.84476377, 528.10415199, 523.44714889,\n",
       "   518.87156192, 514.37527456, 509.95624299, 505.61249305, 501.34211726,\n",
       "   497.14327206, 493.01417512, 488.95310283, 484.95838794, 481.02841721,\n",
       "   477.16162929, 473.35651263, 469.61160351, 465.92548418, 462.29678103,\n",
       "   458.72416294, 455.2063396 , 451.74206   , 448.33011091, 444.96931547,\n",
       "   441.65853187, 438.39665202, 435.18260032, 432.01533249, 428.89383442,\n",
       "   425.81712112, 422.78423564, 419.79424812, 416.8462548 , 413.93937715,\n",
       "   411.07276097, 408.24557554, 405.45701287, 402.70628687, 399.99263264,\n",
       "   397.31530578, 394.67358168, 392.06675485, 389.49413835, 386.95506313,\n",
       "   384.44887749, 381.97494649, 379.53265143, 377.12138935, 374.7405725 ] THz>"
      ]
     },
     "execution_count": 7,
     "metadata": {},
     "output_type": "execute_result"
    }
   ],
   "source": [
    "spec1d.spectral_axis.to(u.THz, u.spectral())"
   ]
  },
  {
   "cell_type": "markdown",
   "metadata": {},
   "source": [
    "But under the hood this are are fully-featured WCS following the [Astropy APE14](https://github.com/astropy/astropy-APEs/blob/main/APE14.rst) WCS interface along with the [GWCS](https://gwcs.readthedocs.io/) package. So you can use that to do conversions to and from spectral to pixel axes:"
   ]
  },
  {
   "cell_type": "code",
   "execution_count": 8,
   "metadata": {},
   "outputs": [
    {
     "data": {
      "text/latex": [
       "$[3505.0505,~3530.303] \\; \\mathrm{\\mathring{A}}$"
      ],
      "text/plain": [
       "<SpectralCoord [3505.05050505, 3530.3030303 ] Angstrom>"
      ]
     },
     "execution_count": 8,
     "metadata": {},
     "output_type": "execute_result"
    }
   ],
   "source": [
    "spec1d.wcs.pixel_to_world([10, 10.5])"
   ]
  },
  {
   "cell_type": "code",
   "execution_count": 9,
   "metadata": {},
   "outputs": [
    {
     "data": {
      "text/plain": [
       "array([19.8, 29.7])"
      ]
     },
     "execution_count": 9,
     "metadata": {},
     "output_type": "execute_result"
    }
   ],
   "source": [
    "spec1d.wcs.world_to_pixel([400, 450]*u.nm)"
   ]
  },
  {
   "cell_type": "markdown",
   "metadata": {},
   "source": [
    "## Uncertainties\n",
    "\n",
    "Currently the most compatible way to use uncertainties is the machinery built for the `astropy.nddata` object (although in many cases simply passing in an uncertainty array will also work):"
   ]
  },
  {
   "cell_type": "code",
   "execution_count": 10,
   "metadata": {},
   "outputs": [
    {
     "data": {
      "text/plain": [
       "<ErrorbarContainer object of 3 artists>"
      ]
     },
     "execution_count": 10,
     "metadata": {},
     "output_type": "execute_result"
    },
    {
     "data": {
      "image/png": "[encoded data removed]",
      "text/plain": [
       "<Figure size 640x480 with 1 Axes>"
      ]
     },
     "metadata": {},
     "output_type": "display_data"
    }
   ],
   "source": [
    "from astropy.nddata import StdDevUncertainty\n",
    "\n",
    "unc = StdDevUncertainty(0.2 * np.ones(100))\n",
    "spec1d_unc = Spectrum1D(spectral_axis=wavelength, flux=flux, uncertainty=unc)\n",
    "\n",
    "# the errorbar matplotlib function does not natively support quantities\n",
    "plt.errorbar(spec1d_unc.wavelength.value, \n",
    "             spec1d_unc.flux.value, \n",
    "             spec1d_unc.uncertainty.array,\n",
    "             fmt='-',\n",
    "             drawstyle='steps-mid',\n",
    "             ecolor='k')"
   ]
  },
  {
   "cell_type": "markdown",
   "metadata": {},
   "source": [
    "### Exercise\n",
    "\n",
    "Create a `Spectrum1D` object for an ideal 5800 K blackbody and plot it. Try the same, but with (random) noise added and stored as the uncertainty.\n",
    "\n",
    "Hint: while you can do this manually if you know the Planck function, there is an Astropy function to help you with this - you can find it via appropriate searches in the [astropy docs](http://docs.astropy.org)."
   ]
  },
  {
   "cell_type": "code",
   "execution_count": 13,
   "metadata": {},
   "outputs": [
    {
     "data": {
      "text/plain": [
       "<Spectrum1D(flux=<Quantity [6.69547789e-12, 6.84292705e-12, 6.99329838e-12, ...,\n",
       "           1.18001807e-06, 1.17999787e-06, 1.17997767e-06] erg / (Hz s sr cm2)>, spectral_axis=<SpectralAxis [  1000.,   1001.,   1002., ..., 109997., 109998., 109999.] Angstrom>)>"
      ]
     },
     "execution_count": 13,
     "metadata": {},
     "output_type": "execute_result"
    }
   ],
   "source": [
    "from astropy.modeling.models import BlackBody\n",
    "bb = BlackBody(temperature=5800*u.K)\n",
    "wav = np.arange(1000, 110000) * u.AA\n",
    "flux = bb(wav)\n",
    "\n",
    "Spectrum1D(spectral_axis=wav, flux=flux)"
   ]
  },
  {
   "cell_type": "code",
   "execution_count": 14,
   "metadata": {},
   "outputs": [],
   "source": [
    "noise = np.random.randn()"
   ]
  },
  {
   "cell_type": "markdown",
   "metadata": {},
   "source": [
    "## Loading spectra from files\n",
    "\n",
    "Specutils also comes with readers for a variety of spectral data formats (including loaders for future JWST instruments). While support for specific formats depends primarily from users (like you!) providing readers, you may find that one has already been implemented for your favorite spectrum format.  As an example, we consider a spectrum form the [Sloan Digital Sky Survey](http://skyserver.sdss.org/):"
   ]
  },
  {
   "cell_type": "code",
   "execution_count": null,
   "metadata": {},
   "outputs": [],
   "source": [
    "from urllib.request import urlretrieve\n",
    "\n",
    "url = 'https://data.sdss.org/sas/dr16/sdss/spectro/redux/26/spectra/1323/spec-1323-52797-0012.fits'\n",
    "urlretrieve(url, 'data/sdss_spectrum.fits')"
   ]
  },
  {
   "cell_type": "code",
   "execution_count": null,
   "metadata": {},
   "outputs": [],
   "source": [
    "sdss_spec = Spectrum1D.read('data/sdss_spectrum.fits', format='SDSS-III/IV spec')\n",
    "plt.plot(sdss_spec.wavelength, sdss_spec.flux)"
   ]
  },
  {
   "cell_type": "markdown",
   "metadata": {},
   "source": [
    "To see the full list of formats readable in your current version of specutils, see the table at the bottom of the `Spectrum1d.read` method:"
   ]
  },
  {
   "cell_type": "code",
   "execution_count": null,
   "metadata": {},
   "outputs": [],
   "source": [
    "help(Spectrum1D.read)"
   ]
  },
  {
   "cell_type": "markdown",
   "metadata": {},
   "source": [
    "### Exercise\n",
    "\n",
    "If you have your own spectroscopic data, try loading a file here using either one of the built-in loaders, or the `Spectrum1D` interface, and plotting it.  If you don't have your own data on-hand, try downloading something of interest via a public archive (e.g., public HST data using MAST), and load it."
   ]
  },
  {
   "cell_type": "code",
   "execution_count": null,
   "metadata": {},
   "outputs": [],
   "source": []
  },
  {
   "cell_type": "markdown",
   "metadata": {},
   "source": [
    "# Manipulating spectra\n",
    "\n",
    "In addition to the analysis tools described in more detail in [the next notebook](Specutils_analysis.ipynb), Specutils also provides functionality for manipulating spectra.  In general these follow the pattern of creating *new* specutils objects with the results of the operation instead of in-place operations.\n",
    "\n",
    "The most straightforward of operations are arithmetic manipulations.  In general these follow expected patterns. E.g.:"
   ]
  },
  {
   "cell_type": "code",
   "execution_count": null,
   "metadata": {},
   "outputs": [],
   "source": [
    "newspec1d = spec1d - 2 * u.erg / u.s / (u.cm**2) / u.AA\n",
    "plt.step(newspec1d.wavelength, newspec1d.flux)"
   ]
  },
  {
   "cell_type": "markdown",
   "metadata": {},
   "source": [
    "However, when there is ambiguity in your intent - for example, two spectra with different units where it is not clear what the desired output is - errors are generally produced instead of the code attempting to guess:"
   ]
  },
  {
   "cell_type": "code",
   "execution_count": null,
   "metadata": {
    "scrolled": true,
    "tags": [
     "raises-exception"
    ]
   },
   "outputs": [],
   "source": [
    "# This raises an error:\n",
    "newspec1d - jyspec1d "
   ]
  },
  {
   "cell_type": "markdown",
   "metadata": {},
   "source": [
    "Resolving this requires explicit conversion:"
   ]
  },
  {
   "cell_type": "code",
   "execution_count": null,
   "metadata": {},
   "outputs": [],
   "source": [
    "spec1d.new_flux_unit(u.Jy) - jyspec1d"
   ]
  },
  {
   "cell_type": "markdown",
   "metadata": {},
   "source": [
    "### Exercise\n",
    "\n",
    "Take the blackbody spectrum you generated above, and create a \"spectral feature\" by adding a Gaussian absorption or emission line to it using the arithmetic operators demonstrated above.  (Hint: [astropy.modeling](http://docs.astropy.org/en/stable/modeling/) contains [an implementation of the Gaussian line profile](http://docs.astropy.org/en/stable/api/astropy.modeling.functional_models.Gaussian1D.html#astropy.modeling.functional_models.Gaussian1D) which you may find useful.)"
   ]
  },
  {
   "cell_type": "code",
   "execution_count": null,
   "metadata": {},
   "outputs": [],
   "source": []
  },
  {
   "cell_type": "markdown",
   "metadata": {},
   "source": [
    "## Smoothing, etc.\n",
    "\n",
    "More complex manipulation tools exist, outlined in the [relevant doc section](https://specutils.readthedocs.io/en/latest/manipulation.html). As a final example of this, we smooth our example spectrum using Gaussian smoothing:"
   ]
  },
  {
   "cell_type": "code",
   "execution_count": null,
   "metadata": {},
   "outputs": [],
   "source": [
    "from specutils.manipulation import gaussian_smooth\n",
    "\n",
    "smoothed_spec = gaussian_smooth(spec1d, 0.75)  # 0.75 pixel gaussian kernel\n",
    "plt.step(smoothed_spec.wavelength, smoothed_spec.flux)"
   ]
  },
  {
   "cell_type": "markdown",
   "metadata": {},
   "source": [
    "### Exercise\n",
    "\n",
    "Try smoothing your spectrum loaded in the above example (or the SDSS spectrum).  Compare all available kernel types and decide which seems most appropriate for your spectrum."
   ]
  },
  {
   "cell_type": "code",
   "execution_count": null,
   "metadata": {},
   "outputs": [],
   "source": []
  },
  {
   "cell_type": "markdown",
   "metadata": {},
   "source": [
    "# Next Steps\n",
    "\n",
    "While the above focuses on loading and viewing spectra, the next notebook is aimed at quantitative scientific analysis of these spectra. Go to the [Specutils analysis notebook](Specutils_analysis.ipynb) for more on this."
   ]
  }
 ],
 "metadata": {
  "kernelspec": {
   "display_name": "Python 3 (ipykernel)",
   "language": "python",
   "name": "python3"
  },
  "language_info": {
   "codemirror_mode": {
    "name": "ipython",
    "version": 3
   },
   "file_extension": ".py",
   "mimetype": "text/x-python",
   "name": "python",
   "nbconvert_exporter": "python",
   "pygments_lexer": "ipython3",
   "version": "3.11.7"
  }
 },
 "nbformat": 4,
 "nbformat_minor": 4
}
